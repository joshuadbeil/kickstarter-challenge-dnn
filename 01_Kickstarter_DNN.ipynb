{
 "cells": [
  {
   "cell_type": "code",
   "execution_count": 30,
   "metadata": {},
   "outputs": [],
   "source": [
    "import matplotlib.pyplot as plt\n",
    "import numpy as np\n",
    "import pandas as pd\n",
    "import seaborn as sns\n",
    "\n",
    "import tensorflow as tf\n",
    "from tensorflow import keras\n",
    "from tensorflow.keras import layers\n",
    "from tensorflow.keras.layers import TextVectorization\n",
    "\n",
    "from sklearn.model_selection import train_test_split\n",
    "\n",
    "import src.process as process"
   ]
  },
  {
   "cell_type": "code",
   "execution_count": 17,
   "metadata": {},
   "outputs": [
    {
     "name": "stdout",
     "output_type": "stream",
     "text": [
      "<class 'pandas.core.frame.DataFrame'>\n",
      "RangeIndex: 168979 entries, 0 to 168978\n",
      "Data columns (total 16 columns):\n",
      " #   Column              Non-Null Count   Dtype  \n",
      "---  ------              --------------   -----  \n",
      " 0   country             168979 non-null  object \n",
      " 1   state               168979 non-null  int64  \n",
      " 2   usd_type            168979 non-null  object \n",
      " 3   converted_goal      168979 non-null  float64\n",
      " 4   len_blurb           168979 non-null  float64\n",
      " 5   len_name            168979 non-null  int64  \n",
      " 6   category_name       168979 non-null  object \n",
      " 7   parent_category     168979 non-null  object \n",
      " 8   launch_to_deadline  168979 non-null  int64  \n",
      " 9   creation_to_launch  168979 non-null  int64  \n",
      " 10  month_launch        168979 non-null  object \n",
      " 11  weekday_launch      168979 non-null  object \n",
      " 12  day_hour_launch     168979 non-null  int64  \n",
      " 13  month_deadline      168979 non-null  object \n",
      " 14  weekday_deadline    168979 non-null  object \n",
      " 15  day_hour_deadline   168979 non-null  int64  \n",
      "dtypes: float64(2), int64(6), object(8)\n",
      "memory usage: 20.6+ MB\n"
     ]
    }
   ],
   "source": [
    "data = pd.read_csv('data/kickstarter_final.csv')\n",
    "data.info()"
   ]
  },
  {
   "attachments": {},
   "cell_type": "markdown",
   "metadata": {},
   "source": [
    "### Initial Split and defining what's categorical and whats numerical\n",
    "\n",
    "- 'day_hour_deadline' and 'day_hour_launch' are recognized as integers when reading them, which doesn't make a lot of sense. Changing them so strings will have them identified as object and therefore categorical.\n",
    "- 'state' are our labels with successful projects being True and otherwise False. All other states have been removed when cleaning the data."
   ]
  },
  {
   "cell_type": "code",
   "execution_count": 25,
   "metadata": {},
   "outputs": [
    {
     "name": "stdout",
     "output_type": "stream",
     "text": [
      "Categorical Features: ['country', 'usd_type', 'category_name', 'parent_category', 'month_launch', 'weekday_launch', 'day_hour_launch', 'month_deadline', 'weekday_deadline', 'day_hour_deadline'] \n",
      "Numerical Features: ['converted_goal', 'len_blurb', 'len_name', 'launch_to_deadline', 'creation_to_launch']\n",
      "\n",
      "Number of categorical Features: 5 \n",
      "Number of numerical Features: 10  \n",
      "Training sample-size: 135183\n"
     ]
    }
   ],
   "source": [
    "data.day_hour_launch = data.day_hour_launch.astype(str)\n",
    "data.day_hour_deadline = data.day_hour_deadline.astype(str)\n",
    "\n",
    "target = 'state'\n",
    "\n",
    "num_features, cat_features = process.num_cat_features(data, target)\n",
    "\n",
    "labels = data[target]\n",
    "features = data.drop(target, axis=1)\n",
    "\n",
    "train_features, val_features, y_train, y_test = train_test_split(features,labels, test_size=0.2, stratify=y ,random_state=42)\n",
    "\n",
    "print(f'\\nNumber of categorical Features: {len(num_features)} \\nNumber of numerical Features: {len(cat_features)}  \\nTraining sample-size: {train_features.shape[0]}')"
   ]
  },
  {
   "cell_type": "code",
   "execution_count": null,
   "metadata": {},
   "outputs": [],
   "source": []
  }
 ],
 "metadata": {
  "kernelspec": {
   "display_name": ".venv",
   "language": "python",
   "name": "python3"
  },
  "language_info": {
   "codemirror_mode": {
    "name": "ipython",
    "version": 3
   },
   "file_extension": ".py",
   "mimetype": "text/x-python",
   "name": "python",
   "nbconvert_exporter": "python",
   "pygments_lexer": "ipython3",
   "version": "3.9.8"
  },
  "orig_nbformat": 4
 },
 "nbformat": 4,
 "nbformat_minor": 2
}
